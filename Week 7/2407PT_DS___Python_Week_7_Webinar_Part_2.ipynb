{
  "nbformat": 4,
  "nbformat_minor": 0,
  "metadata": {
    "colab": {
      "provenance": []
    },
    "kernelspec": {
      "name": "python3",
      "display_name": "Python 3"
    },
    "language_info": {
      "name": "python"
    }
  },
  "cells": [
    {
      "cell_type": "markdown",
      "source": [
        "<div align=\"center\" style=\" font-size: 80%; text-align: center; margin: 0 auto\">\n",
        "<img src=\"https://raw.githubusercontent.com/Explore-AI/Pictures/master/Python-Notebook-Banners/Examples.png\"  style=\"display: block; margin-left: auto; margin-right: auto;\";/>\n",
        "</div>"
      ],
      "metadata": {
        "id": "JChBDyPpELRh"
      }
    },
    {
      "cell_type": "markdown",
      "source": [
        "# An introduction to Visualisations in Python - Part 2\n",
        "\n"
      ],
      "metadata": {
        "id": "xfvEQ1fPmctA"
      }
    },
    {
      "cell_type": "markdown",
      "source": [
        "We can categorise visualisations in Python based on the number of Variables we want to work with. By this we would have 3 major classes.\n",
        "\n",
        "\n",
        "\n",
        "1.   Univariate Visualisations\n",
        "2.   Bivariate Visualisations\n",
        "3.   Multivariate Visualisations\n",
        "\n",
        "In **An introduction to Visualisations in Python - Part 1** we explored univariate visualisations using the Prosper Loan Dataset from Kaggle.\n",
        "\n",
        "In part 2, we would build on the concepts introduced in part 1 by logically carrying out an Eploratory Data Analysis to uncover insights on borrowers behavior from the dataset."
      ],
      "metadata": {
        "id": "An9cIrILAyN1"
      }
    },
    {
      "cell_type": "markdown",
      "source": [
        "## A simple EDA on the Prosper Loan Dataset\n",
        "\n",
        "Here we would be using **Visualisations** as a graphical representation of or data to analyse the data to communicate insights on the data to our target audience for decision making.\n",
        "\n",
        "Once again let us begin by loading our importing relevant libraries, loading our dataset, and information about the columns in the dataset."
      ],
      "metadata": {
        "id": "lKQxCCXIo46g"
      }
    },
    {
      "cell_type": "code",
      "source": [
        "# import all packages and set plots to be embedded inline\n",
        "import numpy as np\n",
        "import pandas as pd\n",
        "import matplotlib.pyplot as plt\n",
        "import seaborn as sns\n",
        "import warnings\n",
        "\n",
        "%matplotlib inline\n",
        "warnings.filterwarnings('ignore')"
      ],
      "metadata": {
        "id": "vcJ4vNdRcLu6"
      },
      "execution_count": null,
      "outputs": []
    },
    {
      "cell_type": "code",
      "source": [
        "# Since I am working from my Colab, I will mount my Google drive to access the\n",
        "# data, this would not be necessary\n",
        "from google.colab import drive\n",
        "drive.mount('/content/drive')"
      ],
      "metadata": {
        "id": "jUAJtGsFrYxh"
      },
      "execution_count": null,
      "outputs": []
    },
    {
      "cell_type": "code",
      "source": [
        "# the dataset we will be using is the prosper_loan_data.csv from Kaggle\n",
        "# I will load this into my Pandas DataFrame\n",
        "\n",
        "df = pd.read_csv('/content/drive/Shareddrives/[Prog] 2401FTDS/Webinars/5_Python/Week 4/prosperLoanData.csv')\n"
      ],
      "metadata": {
        "id": "PWH0fEZ4raym"
      },
      "execution_count": null,
      "outputs": []
    },
    {
      "cell_type": "code",
      "source": [
        "# let's look at what the data holds\n",
        "\n",
        "df.head(1)"
      ],
      "metadata": {
        "id": "abaB5brdrjA4"
      },
      "execution_count": null,
      "outputs": []
    },
    {
      "cell_type": "code",
      "source": [
        "# Let us also create a df of the information of the fields in our dataset\n",
        "var_path = \"/content/drive/Shareddrives/[Prog] 2401FTDS/Webinars/5_Python/Week 4/Prosper Loan Data - Variable Definitions - Sheet1.csv\"\n",
        "var_df = pd.read_csv(var_path)\n",
        "\n",
        "# let's have a look\n",
        "var_df.head(5)"
      ],
      "metadata": {
        "id": "rGYmee-arkBi"
      },
      "execution_count": null,
      "outputs": []
    },
    {
      "cell_type": "code",
      "source": [
        "def field_info(field_name):\n",
        "  if field_name in var_df.Variable.unique():\n",
        "    field_info = var_df[var_df['Variable'] == field_name]['Description'].tolist()[0]\n",
        "    print(f\"{field_name}:\\n{field_info}\")\n",
        "  else:\n",
        "    print(f\"{field_name}:\\nField Not found in Data\")"
      ],
      "metadata": {
        "id": "R9F7m6gz-Wio"
      },
      "execution_count": null,
      "outputs": []
    },
    {
      "cell_type": "markdown",
      "source": [
        "## Univariate Visualisations.\n",
        "\n"
      ],
      "metadata": {
        "id": "pXK0ZLHpshGZ"
      }
    },
    {
      "cell_type": "markdown",
      "source": [
        "With that loaded we can proceed to beginning an EDA of the data to uncover borrower patterns.\n",
        "\n",
        "Let's begin with answering the question, what are the various status of loans in the dataset and how many of those statuses are there. This will utilize a univariate visualisation since we are dealing with a single variable. From the dataset we see there is a LoanStatus column, we should be able to get the information we need by creating a Visualisation of that column.  But remember we said a visual will depend on the data type. so let us first check what data type LoanStatus is and then decide what type of Visualisation will be appropriate."
      ],
      "metadata": {
        "id": "d8a2NtkKBKDW"
      }
    },
    {
      "cell_type": "code",
      "source": [
        "# check get information of the LoanStatus column\n",
        "\n",
        "df['LoanStatus'].info()"
      ],
      "metadata": {
        "id": "92e7nJ_Jscj_"
      },
      "execution_count": null,
      "outputs": []
    },
    {
      "cell_type": "code",
      "source": [
        "# We can see that it is categorical data. but let see samples of the data by\n",
        "# viewing the first 20 to see if it is ordinal or nominal data\n",
        "\n",
        "df['LoanStatus'].head(20)"
      ],
      "metadata": {
        "id": "3Y7w6xh-uIab"
      },
      "execution_count": null,
      "outputs": []
    },
    {
      "cell_type": "markdown",
      "source": [
        "There does not seem to be any order to the data so we can assert that it is\n",
        "norminal - without any order. our option for visualizing now are limited to barcharts, pie-charts, doughnut charts, tree map, word cloud.\n",
        "\n",
        "Next let's check how many unique value to inform our decision further."
      ],
      "metadata": {
        "id": "YjSXM07ZwjK2"
      }
    },
    {
      "cell_type": "code",
      "source": [
        "df['LoanStatus'].nunique() # this counts the number of unique values in a column"
      ],
      "metadata": {
        "id": "zPjxd4Pxu8bZ"
      },
      "execution_count": null,
      "outputs": []
    },
    {
      "cell_type": "markdown",
      "source": [
        "The effectiveness of different visualization techniques can vary significantly depending on the number of unique categories present in the data. Here’s a general guideline on how many unique values are preferable for various types of charts:\n",
        "\n",
        "1. **Pie Charts and Doughnut Charts**:\n",
        "   - **Preferable Number of Categories**: 2 to 5\n",
        "   - **Reason**: Pie and doughnut charts become cluttered and hard to interpret with too many slices. They work best with a small number of categories, where the difference in proportions is clear and easily understandable.\n",
        "\n",
        "2. **Tree Maps**:\n",
        "   - **Preferable Number of Categories**: 5 to 20\n",
        "   - **Reason**: Tree maps can handle a moderate number of categories effectively because they use space efficiently. Each category is represented as a rectangle that can vary in size, allowing for easy comparison of proportions. They can accommodate more categories than pie charts without losing readability.\n",
        "\n",
        "3. **Word Clouds**:\n",
        "   - **Preferable Number of Categories**: 10 to 30\n",
        "   - **Reason**: Word clouds are suitable for visualizing textual data or categories in a more engaging way. They can handle many categories, with the size of each word representing its frequency. However, they become less effective and more cluttered as the number of words increases.\n",
        "\n",
        "4. **Bar Charts**:\n",
        "   - **Preferable Number of Categories**: 2 to 20+\n",
        "   - **Reason**: Bar charts are versatile and can effectively display a wide range of categories. They are particularly useful for larger datasets as they can handle many categories without loss of interpretability, especially if the bars are sorted or if the chart is split into smaller grouped or stacked bar charts.\n",
        "\n",
        "The optimal number of categories can depend on various factors, including the size and layout of the chart, the audience's familiarity with the data, and the specific visualization tool used. Generally, it's best to limit the number of categories in visualizations like pie and doughnut charts, while bar charts and tree maps can accommodate more without sacrificing clarity.\n",
        "\n",
        "Since we have 12, **Tree Maps, WordClouds, and Bar Charts** qualify. However I would prefer the Bar Chart since it is most commonly used because of the ease of interpretation.\n",
        "\n",
        "> let us build or first categorical univariate visualisation using the constituents we listed in Part 1, Data, visual encoding, axes and scales, labels and legends, titles and annotations, and design."
      ],
      "metadata": {
        "id": "Egvog9cAw3NL"
      }
    },
    {
      "cell_type": "code",
      "source": [
        "# first we will use Matplotlib.Pyplot (plt)\n",
        "# 1. Data\n",
        "loan_status_counts = df['LoanStatus'].value_counts() # creates a Pandas series\n",
        "x= loan_status_counts.index # creates the x-axis\n",
        "y= loan_status_counts.values # creates the y-axis\n",
        "\n",
        "# 2. Visual Encoding\n",
        "plt.figure(figsize=(10, 6))\n",
        "plt.bar(x, y)  # Bar chart\n",
        "\n",
        "# 3. Axes and Scales\n",
        "plt.xticks(rotation=45)  # Control axis properties like rotation\n",
        "\n",
        "# 4. Labels and Legends\n",
        "plt.xlabel('Loan Status')  # X-axis Label\n",
        "plt.ylabel('Number of Loans')  # Y-axis Label\n",
        "plt.legend(['Number of Loans per Status'])  # Legend\n",
        "\n",
        "# 5. Titles and/or Annotations\n",
        "plt.title('Distribution of Loan Status')  # Title\n",
        "\n",
        "# plt.annotate('Highest Count',\n",
        "#              xy=(loan_status_counts.idxmax(), loan_status_counts.max()),\n",
        "#              xytext=(loan_status_counts.idxmax(),\n",
        "#                      loan_status_counts.max()*0.9),\n",
        "#              arrowprops=dict(facecolor='black', shrink=0.05))  # Annotation\n",
        "\n",
        "# 6. Design\n",
        "plt.style.use('ggplot')  # Design style\n",
        "\n",
        "plt.show()\n"
      ],
      "metadata": {
        "id": "ZmafyhHHw2fd"
      },
      "execution_count": null,
      "outputs": []
    },
    {
      "cell_type": "code",
      "source": [
        "# Let's do the same plot using Seaborn\n",
        "\n",
        "# 1. Data\n",
        "# Data manipulation is not required here because countplot handles counting\n",
        "#  internally.\n",
        "\n",
        "# 2. Visual Encoding\n",
        "plt.figure(figsize=(10, 6))\n",
        "ax = sns.countplot(x='LoanStatus',\n",
        "                   data=df,\n",
        "                   order=df['LoanStatus'].value_counts().index)\n",
        "\n",
        "# 3. Axes and Scales\n",
        "plt.xticks(rotation=45)\n",
        "\n",
        "# 4. Labels and Legends\n",
        "plt.xlabel('Loan Status') #label\n",
        "plt.ylabel('Number of Loans') # label\n",
        "plt.legend(['Number of Loans per Status'])  # Legend\n",
        "\n",
        "# 5. Titles and/or Annotations\n",
        "plt.title('Distribution of Loan Status Using Seaborn') # title\n",
        "\n",
        "# for p in ax.patches:\n",
        "#     ax.annotate(f'{int(p.get_height())}', (p.get_x() + p.get_width() / 2., p.get_height()),\n",
        "#                 ha='center', va='baseline', fontsize=10, color='black', xytext=(0, 5),\n",
        "#                 textcoords='offset points') # Annotation\n",
        "\n",
        "# 6. Design\n",
        "sns.set(style=\"whitegrid\")\n",
        "plt.show()\n"
      ],
      "metadata": {
        "id": "vHZII0GpwAuI"
      },
      "execution_count": null,
      "outputs": []
    },
    {
      "cell_type": "markdown",
      "source": [
        "I googled the meaning of each of the loan status above to see what each status mean and have provided it in the table below. These statuses typically reflect various stages in the life cycle of a loan, indicating both healthy repayments and various levels of delinquency. Each status is critical for managing credit risk and understanding the financial health of the loan portfolio.\n",
        "\n",
        "| Loan Status                | Definition                                                                 |\n",
        "|----------------------------|----------------------------------------------------------------------------|\n",
        "| **Cancelled**              | The loan agreement was cancelled before it was fully disbursed or repaid. |\n",
        "| **Chargedoff**             | The loan is written off as unrecoverable by the lender, typically after a prolonged period of non-payment. |\n",
        "| **Completed**              | The loan has been fully repaid.                                           |\n",
        "| **Current**                | The loan is active and payments are up-to-date.                           |\n",
        "| **Defaulted**              | The loan has not been repaid and is considered a loss.                    |\n",
        "| **FinalPaymentInProgress** | The final payment is being processed.                                     |\n",
        "| **Past Due (1-15 days)**   | Payment is overdue by 1 to 15 days.                                       |\n",
        "| **Past Due (16-30 days)**  | Payment is overdue by 16 to 30 days.                                      |\n",
        "| **Past Due (31-60 days)**  | Payment is overdue by 31 to 60 days.                                      |\n",
        "| **Past Due (61-90 days)**  | Payment is overdue by 61 to 90 days.                                      |\n",
        "| **Past Due (91-120 days)** | Payment is overdue by 91 to 120 days.                                     |\n",
        "| **Past Due (>120 days)**   | Payment is overdue by more than 120 days.                                 |\n"
      ],
      "metadata": {
        "id": "TFFMS23B7gpr"
      }
    },
    {
      "cell_type": "markdown",
      "source": [
        "## Bivariate Visualisations\n",
        "\n"
      ],
      "metadata": {
        "id": "PlQPnuodAcX5"
      }
    },
    {
      "cell_type": "markdown",
      "source": [
        "Now we see that, of all loans that are not completed (Loans with 'Current' status), A good number of the borrowers tend to pay of their loans, but there also seem to be a lot of people who tend to not pay back.\n",
        "\n",
        "We can now investigate further, in each category of loan status, what are their ralationship with other fields in the data like Term of the loan, CreditGrade, Occupation, BorrowerAPR, BorrowerRate, etc. Remeber that once we add another variable, we would need to create Bivariate Visualisations.\n",
        "\n",
        "For Bivariate Visualisations we would pick Two numerical columns, one Discrete - Term, and one Continous - BorrowerRate\n",
        "\n",
        "When deciding on a visualization to represent the relationship between a nominal variable and a discrete variable, you should consider several key factors that inform your choice. Here are the main aspects to think about:\n",
        "\n",
        "**1. Nature of the Variables**\n",
        "- **Nominal Variable**: Since this is a categorical variable without a natural ordering, your visualization should clearly differentiate between categories without implying any order or hierarchy.\n",
        "- **Discrete Variable**: This type of variable takes on countable values. The visualization should make it easy to compare these counts or values across different categories of the nominal variable.\n",
        "\n",
        "**2. Purpose of the Visualization**\n",
        "- **Comparison**: If the goal is to compare the discrete variable's values across the different categories of the nominal variable, a bar chart or a dot plot would be appropriate.\n",
        "- **Distribution**: To show how the discrete variable is distributed across the categories, consider histograms for each category or a violin plot if the data distribution’s shape and outliers are also of interest.\n",
        "- **Relationship**: To explore the relationship or correlation between the nominal and discrete variables, stacked bar charts or cluster bar charts can be effective.\n",
        "\n",
        "**3. Audience and Context**\n",
        "- The choice of visualization can also depend on the audience’s familiarity with data interpretation. Simplistic visualizations like bar charts are universally understood, whereas box plots or violin plots might require a more data-savvy audience.\n",
        "- The context or environment where the visualization will be presented (e.g., interactive web platforms, static reports) can influence the choice. Interactive platforms allow for more complex visualizations that users can explore, such as drill-down pie charts or interactive histograms.\n",
        "\n",
        "**4. Data Volume and Granularity**\n",
        "- **Large datasets**: With a large amount of data, some visualizations can become cluttered or slow to render. Summarization through histograms or aggregate bar charts might be necessary.\n",
        "- **Granularity**: The level of detail required in the visualization impacts the choice. For detailed analysis, you might opt for split-violin plots or faceted histograms.\n",
        "\n",
        "Option availble to us are scatterplot, lineplot, barplot, histogram (mostly univariate but can be adapted for bivariate visualisations), boxplot, pairplot, violinplot, KDEplot, heatmap, regplot, etc\n"
      ],
      "metadata": {
        "id": "czPYImmgAo5P"
      }
    },
    {
      "cell_type": "code",
      "source": [
        "# First lets use our function for getting information from our data dictionary\n",
        "# We will use it get the meaning of the Term and BorrowerRate\n",
        "\n",
        "field_info('Term')\n",
        "field_info('BorrowerRate')"
      ],
      "metadata": {
        "id": "TTf5Rbh_14HH"
      },
      "execution_count": null,
      "outputs": []
    },
    {
      "cell_type": "code",
      "source": [
        "# This should be our second nature in visualisations, not your the audience but\n",
        "#  for you the Data Scientist\n",
        "\n",
        "df[['LoanStatus', 'Term']].info()"
      ],
      "metadata": {
        "id": "5K6b7e8ZCBjK"
      },
      "execution_count": null,
      "outputs": []
    },
    {
      "cell_type": "code",
      "source": [
        "# we know LoanStatus has 12 unique values, so let's check that of Term\n",
        "\n",
        "df['Term'].nunique()"
      ],
      "metadata": {
        "id": "wgNiMmBdCnZv"
      },
      "execution_count": null,
      "outputs": []
    },
    {
      "cell_type": "markdown",
      "source": [
        "### Recommended Visualizations\n",
        "\n",
        "For visualizing the relationship between a nominal variable with 12 unique values (\"Loan Status\") and a discrete variable with just 3 unique values (\"Term of Loans\"), you'll want a plot that clearly shows the distribution of the loan terms across different loan statuses. Here are a few recommendations tailored for this specific scenario:\n",
        "\n",
        "- **Clustered Bar Chart**: Best for comparing the count of each term across different statuses.\n",
        "- **Stacked Bar Chart**: Most suitable for understanding the proportion of each term within each status.\n",
        "- **Heatmap**: Ideal for identifying patterns and concentrations of data points.\n",
        "\n",
        "Since we want to see how each term is distributed across all loan status, I will be using the clustered barchart."
      ],
      "metadata": {
        "id": "iJG414o_BxTZ"
      }
    },
    {
      "cell_type": "code",
      "source": [
        "# Using Matplotlib.Pyplot\n",
        "\n",
        "# 1. Data\n",
        "grouped= df.groupby(['LoanStatus', 'Term']).size().unstack(fill_value=0)\n",
        "\n",
        "\n",
        "# 2. Visual Encoding\n",
        "fig, ax = plt.subplots(figsize=(10, 6)) # set the size of the plot\n",
        "terms = grouped.columns\n",
        "x = np.arange(len(grouped))  # the label locations\n",
        "width = 0.25  # the width of the bars\n",
        "\n",
        "# Generate a bar for each term\n",
        "for i, term in enumerate(terms):\n",
        "    ax.bar(x + i * width, grouped[term], width, label=term)\n",
        "\n",
        "\n",
        "# 3. Axes and Scales\n",
        "\n",
        "ax.set_xticks(x + width)\n",
        "ax.set_xticklabels(grouped.index)\n",
        "\n",
        "plt.xticks(rotation=45)  # Control axis properties like rotation\n",
        "\n",
        "# 4. Labels and Legends\n",
        "ax.set_xlabel('Loan Status') # X-axis Label\n",
        "ax.set_ylabel('Count') # Y-axis Label\n",
        "ax.legend(title='Term')  # Legend\n",
        "\n",
        "# 5. Titles and/or Annotations\n",
        "ax.set_title('Distribution of Loan Terms by Loan Status')  # Title\n",
        "\n",
        "\n",
        "# 6. Design\n",
        "plt.style.use('ggplot')  # Design style\n",
        "\n",
        "plt.tight_layout()"
      ],
      "metadata": {
        "id": "e7isO6qV5sUJ"
      },
      "execution_count": null,
      "outputs": []
    },
    {
      "cell_type": "code",
      "source": [
        "# Now let's do the same using Seaborn\n",
        "\n",
        "# 1. Data\n",
        "# this is handled within Seaborn, not needed\n",
        "\n",
        "# 2. Visual Encoding\n",
        "fig, ax = plt.subplots(figsize=(10, 6)) # set the size of the plot\n",
        "sns.countplot(x='LoanStatus', hue='Term', data=df.sort_values('LoanStatus'), palette=sns.color_palette(\"bright\"))\n",
        "\n",
        "# 3. Axes and Scales\n",
        "plt.xticks(rotation=45)  # Control axis properties like rotation\n",
        "\n",
        "# 4. Labels and Legends\n",
        "ax.set_xlabel('Loan Status') # X-axis Label\n",
        "ax.set_ylabel('Count') # Y-axis Label\n",
        "ax.legend(title='Term')  # Legend\n",
        "\n",
        "# 5. Titles and/or Annotations\n",
        "ax.set_title('Distribution of Loan Terms by Loan Status')  # Title\n",
        "\n",
        "\n",
        "# 6. Design\n",
        "sns.set(style=\"whitegrid\") # for consistency\n",
        "\n",
        "plt.tight_layout()"
      ],
      "metadata": {
        "id": "BVBQWOZa-bmI"
      },
      "execution_count": null,
      "outputs": []
    },
    {
      "cell_type": "markdown",
      "source": [
        "From the above we see that a we have a lot of 36 term loans completed, but it also has a high amount not completed (Defaulted and Chargedoff). But this seems also thesame for 60 Term loans. However we do not have a lot of 12 Months Term loans but alot seem completed. This some interesting insights, don't you think?\n",
        "\n",
        "Let's look at the next pair - Term and BorrowerRate."
      ],
      "metadata": {
        "id": "xg7NJ-nYLpA9"
      }
    },
    {
      "cell_type": "code",
      "source": [
        "# Once again, lets use our function for getting information from our data\n",
        "# dictionary. We will use it get the meaning of the Term and BorrowerRate\n",
        "\n",
        "field_info('Term')\n",
        "field_info('BorrowerRate')"
      ],
      "metadata": {
        "id": "-aTfMnh8GAn2"
      },
      "execution_count": null,
      "outputs": []
    },
    {
      "cell_type": "code",
      "source": [
        "# Next, as Data Scientist let's get info on the two columns\n",
        "\n",
        "df[['LoanStatus', 'BorrowerRate']].info()"
      ],
      "metadata": {
        "id": "9d8gUmNVN-ZO"
      },
      "execution_count": null,
      "outputs": []
    },
    {
      "cell_type": "code",
      "source": [
        "# Can we check the number of unique variables in BorrowerRate\n",
        "\n",
        "df['BorrowerRate'].nunique()"
      ],
      "metadata": {
        "id": "x9lATxyjOQ_O"
      },
      "execution_count": null,
      "outputs": []
    },
    {
      "cell_type": "markdown",
      "source": [
        "Wow!!! Now that is a lot of unique values.\n",
        "\n",
        "When dealing with a nominal variable with a manageable number of unique values (like \"Loan Status\" with 12 unique values) and a continuous variable with many unique values (like BorrowRate with 2294 unique values), the key is to choose visualizations that can succinctly convey the distribution or central tendency of the continuous variable across the categories defined by the nominal variable. Here are a few recommended visualization types that could be effective:\n",
        "\n",
        "\n",
        "**Choosing the Best Option**\n",
        "- **Box Plot or Violin Plot**: Best for when you want to visualize the distribution and identify potential outliers or skewness in the data.\n",
        "- **Swarm Plot**: Useful for smaller datasets or when it's crucial to display every individual measurement.\n",
        "- **Bar Plot**: Good for providing a quick summary using the mean or median to understand typical values but not the spread or distribution.\n",
        "\n",
        "Each of these options is suited to different aspects of data analysis, depending on what you want to emphasize about the relationship between the loan status and the continuous variable.\n",
        "\n"
      ],
      "metadata": {
        "id": "OBa7Aa4-Ozmi"
      }
    },
    {
      "cell_type": "code",
      "source": [
        "# Now let's do the same using Seaborn\n",
        "\n",
        "# 1. Data\n",
        "# this is handled within Seaborn, not needed\n",
        "\n",
        "# 2. Visual Encoding\n",
        "fig, ax = plt.subplots(figsize=(10, 5)) # set the size of the plot\n",
        "sns.boxplot(y='LoanStatus', x='BorrowerRate', data=df.sort_values('LoanStatus'))\n",
        "\n",
        "# 3. Axes and Scales\n",
        "plt.xticks(rotation=45)  # Control axis properties like rotation\n",
        "\n",
        "# 4. Labels and Legends\n",
        "plt.ylabel('Loan Status') # X-axis Label\n",
        "plt.xlabel('Loan Amount') # Y-axis Label\n",
        "ax.legend(title='Term')  # Legend\n",
        "\n",
        "# 5. Titles and/or Annotations\n",
        "plt.title('Loan Amount Distribution by Loan Status')\n",
        "\n",
        "# 6. Design\n",
        "sns.set(style=\"whitegrid\") # for consistency\n",
        "\n",
        "plt.tight_layout()\n"
      ],
      "metadata": {
        "id": "jg2wbdnIS5M9"
      },
      "execution_count": null,
      "outputs": []
    },
    {
      "cell_type": "code",
      "source": [
        "# Now let's try the same using matplotlib\n",
        "\n",
        "# 1. Data\n",
        "# Preparing the data: aggregating BorrowerRate by LoanStatus\n",
        "unique_statuses = sorted(df['LoanStatus'].unique())\n",
        "data_to_plot = [df[df['LoanStatus'] == status]['BorrowerRate'] for status in unique_statuses]\n",
        "\n",
        "# 2. Visual Encoding\n",
        "fig, ax = plt.subplots(figsize=(10, 5))\n",
        "ax.boxplot(data_to_plot, vert=False, patch_artist=True)  # Create a horizontal boxplot\n",
        "\n",
        "# 3. Axes and Scales\n",
        "ax.set_yticklabels(unique_statuses)\n",
        "plt.xticks(rotation=45)  # Control x-axis properties like rotation\n",
        "\n",
        "# 4. Labels and Legends\n",
        "plt.ylabel('Loan Status')  # Y-axis Label\n",
        "plt.xlabel('Borrower Rate')  # X-axis Label\n",
        "# No automatic legend handling here, but you could create custom annotations if needed.\n",
        "\n",
        "# 5. Titles and/or Annotations\n",
        "plt.title('Borrower Rate Distribution by Loan Status')\n",
        "\n",
        "# 6. Design\n",
        "plt.grid(True)  # Add gridlines for better readability\n",
        "\n",
        "plt.tight_layout()  # Adjust layout to fit everything neatly\n"
      ],
      "metadata": {
        "id": "tGr6IXldd_e9"
      },
      "execution_count": null,
      "outputs": []
    },
    {
      "cell_type": "code",
      "source": [
        "type(data_to_plot)"
      ],
      "metadata": {
        "id": "RFYLRFCUe6CA"
      },
      "execution_count": null,
      "outputs": []
    },
    {
      "cell_type": "code",
      "source": [
        "# Now let's do the same using Seaborn\n",
        "\n",
        "# 1. Data\n",
        "# this is handled within Seaborn, not needed\n",
        "\n",
        "# 2. Visual Encoding\n",
        "fig, ax = plt.subplots(figsize=(15, 5)) # set the size of the plot\n",
        "sns.violinplot(x='LoanStatus', y='BorrowerRate', data=df.sort_values('LoanStatus'))\n",
        "\n",
        "# 3. Axes and Scales\n",
        "plt.xticks(rotation=45)  # Control axis properties like rotation\n",
        "\n",
        "# 4. Labels and Legends\n",
        "plt.xlabel('Loan Status') # X-axis Label\n",
        "plt.ylabel('BorrowerRate') # Y-axis Label\n",
        "# ax.legend(title='')  # Legend\n",
        "\n",
        "# 5. Titles and/or Annotations\n",
        "plt.title('Loan Amount Distribution by Loan Status')\n",
        "\n",
        "# 6. Design\n",
        "sns.set(style=\"whitegrid\") # for consistency\n",
        "\n",
        "plt.tight_layout()"
      ],
      "metadata": {
        "id": "gr2uC9mJ77rV"
      },
      "execution_count": null,
      "outputs": []
    },
    {
      "cell_type": "markdown",
      "source": [
        "This is interesting, I prefer the violin plot. Why? It shows me more info on how borrowers behave. But first let us see what a Violinplot shows us."
      ],
      "metadata": {
        "id": "F1BF3v5S_KTr"
      }
    },
    {
      "cell_type": "markdown",
      "source": [
        "## Multivariate Visualisations\n",
        "\n"
      ],
      "metadata": {
        "id": "AlLRCcjoRHUJ"
      }
    },
    {
      "cell_type": "markdown",
      "source": [
        "What insights can we deduce from the Violinplot of LoanStatus vs BorrowerRate.\n",
        "\n",
        "- There is a clear boundary of 0.2 BorrowerRate that seems to determine if loans are paid back or not. This is because the median BorrowerRate of all completed loans and loans with final payment in progress all have a median of less than 0.2 BorrowerRate, while cancelled, defaulted, chargedoff or past due, all tend to have a BorrowerRate of greater than 0.2. Interesting right?\n",
        "\n",
        "Also, we got some insight from the visualisation of LoanStatus and Term, which was:\n",
        "\n",
        "- A lot of 36 term loans were completed but also has a high amount not completed (Defaulted and Chargedoff). Also, was also the case for 60 months Term loans. However, we did not have a lot of 12 Months Term loans but almost all was completed.\n",
        "\n",
        "But now that we have gotten insights from both **LoanStatus vs Term** and **LoanStatus vs BorrowerRate**, would it not make sense to visualize all 3 variables?\n",
        "\n",
        "Lets see how that will work."
      ],
      "metadata": {
        "id": "8sIHxZuIBFxp"
      }
    },
    {
      "cell_type": "code",
      "source": [
        "# One more time, lets use our function for getting information from our data\n",
        "# dictionary for LoanStatus, BorrowerRate, and Term\n",
        "\n",
        "field_info('Term')\n",
        "field_info('BorrowerRate')\n",
        "field_info('LoanStatus')"
      ],
      "metadata": {
        "id": "DqRhqSAYQ9Rk"
      },
      "execution_count": null,
      "outputs": []
    },
    {
      "cell_type": "code",
      "source": [
        "# Also...\n",
        "\n",
        "df[['LoanStatus', 'Term', 'BorrowerRate']].info()"
      ],
      "metadata": {
        "id": "rRgajOlEL1fl"
      },
      "execution_count": null,
      "outputs": []
    },
    {
      "cell_type": "code",
      "source": [
        "# and finally let's use a loop to count the total number of unique values in\n",
        "# each column\n",
        "\n",
        "for column in ['LoanStatus', 'Term', 'BorrowerRate']:\n",
        "  print(f\"{column} contains {df[column].nunique()} unique values\")"
      ],
      "metadata": {
        "id": "acVoHL8VMDid"
      },
      "execution_count": null,
      "outputs": []
    },
    {
      "cell_type": "markdown",
      "source": [
        "Since we are working with a nominal variable (\"LoanStatus\" with 12 unique values), a discrete variable (\"Term\" with 3 unique values), and a continuous variable (\"BorrowerRate\" with 2294 unique values), we'll want a visualization that can effectively display the distribution of the continuous variable across both the nominal and the discrete variables. below are a few visualization types that could be effective for this scenario:\n",
        "\n",
        "\n",
        "**Choosing the Best Option**\n",
        "- **Faceted Box Plot**: Best for detailed distribution analysis across both nominal and discrete variables separately.\n",
        "- **Violin Plot**: Useful for a visual and detailed comparison of distributions across grouped categories, with the ability to see distributions for different terms overlaid.\n",
        "- **Stacked Bar Plot**: Provides a quick summary using mean or median values, good for presentations or when detailed distribution information is less critical.\n",
        "\n",
        "Since we are going for the kill, I would suggest we go for the violin plot since it gives us more detailed information."
      ],
      "metadata": {
        "id": "W-ZFQoWYOYHB"
      }
    },
    {
      "cell_type": "code",
      "source": [
        "import seaborn as sns\n",
        "import matplotlib.pyplot as plt\n",
        "\n",
        "# Now let's do the same using Seaborn\n",
        "\n",
        "# 1. Data\n",
        "# this is handled within Seaborn, not needed\n",
        "\n",
        "# 2. Visual Encoding\n",
        "# Create a FacetGrid with increased height and aspect for better visibility\n",
        "g = sns.FacetGrid(df, col=\"Term\", height=6, aspect=1)\n",
        "g.map_dataframe(sns.boxplot, y='LoanStatus', x='BorrowerRate')\n",
        "g.fig.subplots_adjust(top=0.9)  # Adjust the top space to fit the title\n",
        "\n",
        "# 3. Axes and Scales\n",
        "for ax in g.axes.flat:\n",
        "    for label in ax.get_xticklabels():\n",
        "        label.set_rotation(45)\n",
        "\n",
        "# 4. Labels and Legends\n",
        "g.set_axis_labels('Borrower Rate', 'Loan Status')  # Set X and Y axis labels across all facets\n",
        "\n",
        "# 5. Titles and/or Annotations\n",
        "g.fig.suptitle('Borrower Rate Distribution by Loan Status and Term', fontsize=16)  # Set the main title\n",
        "\n",
        "# 6. Design\n",
        "sns.set(style=\"whitegrid\")  # Apply a consistent style\n",
        "\n",
        "plt.tight_layout()"
      ],
      "metadata": {
        "id": "kt73zPgEOXhL"
      },
      "execution_count": null,
      "outputs": []
    },
    {
      "cell_type": "markdown",
      "source": [
        "Wow, that was a lot.<br>\n",
        "With this we can see all loan Term for each LoanStatus.<br>\n",
        "We can also see the interquertile ranges of the BorrowerRate of all 3 loan Term for each of the 12 LoanStatus. Is that not cool?<br>\n",
        "What insights can you see from this?"
      ],
      "metadata": {
        "id": "cJ1RNR-ZYAip"
      }
    },
    {
      "cell_type": "code",
      "source": [],
      "metadata": {
        "id": "TNfI48dMQ4eH"
      },
      "execution_count": null,
      "outputs": []
    }
  ]
}