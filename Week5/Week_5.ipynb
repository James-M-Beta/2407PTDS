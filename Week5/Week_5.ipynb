{
 "cells": [
  {
   "cell_type": "markdown",
   "metadata": {},
   "source": [
    "## Package Management Links\n",
    "[Python Package Index](https://pypi.org/) <br>\n",
    "[anaconda / packages](https://anaconda.org/anaconda/repo)<br>\n",
    "[Conda Documentation](https://docs.conda.io/projects/conda/en/latest/index.html)<br>\n",
    "[How to Create and Pip Install Requirements.txt](https://www.freecodecamp.org/news/python-requirementstxt-explained/)"
   ]
  },
  {
   "cell_type": "markdown",
   "metadata": {
    "id": "bMVDykAFQjpc"
   },
   "source": [
    "## Package management in notebooks\n",
    "\n",
    "### PyPI\n",
    ">Basic Syntax: Use the **!** operator before the **pip** command to install a package directly in a notebook cell:    \n",
    "> **!pip install *package_name***\n",
    "### Conda\n",
    "> This will not work/ throw a warning in Google Colab.    \n",
    ">Basic Syntax: Use the **!** operator before the **conda** command    \n",
    "> **!conda install *package_name* -y**\n"
   ]
  },
  {
   "cell_type": "code",
   "execution_count": 1,
   "metadata": {
    "colab": {
     "base_uri": "https://localhost:8080/"
    },
    "id": "vFhRI5P2RbgC",
    "outputId": "7eae4b3e-92a4-434c-cbec-a4293fdfd8f4"
   },
   "outputs": [
    {
     "name": "stdout",
     "output_type": "stream",
     "text": [
      "Requirement already satisfied: numpy in c:\\users\\hp\\anaconda3\\envs\\env_1\\lib\\site-packages (2.2.0)\n"
     ]
    }
   ],
   "source": [
    "# Install the 'numpy' library using pip\n",
    "!pip install numpy\n"
   ]
  },
  {
   "cell_type": "code",
   "execution_count": null,
   "metadata": {
    "colab": {
     "base_uri": "https://localhost:8080/"
    },
    "id": "qe9fb5nhRhEu",
    "outputId": "52b664ac-69ef-4027-96e7-afb50014cdcd"
   },
   "outputs": [
    {
     "name": "stdout",
     "output_type": "stream",
     "text": [
      "Channels:\n",
      " - defaults\n",
      " - conda-forge\n",
      "Platform: win-64\n",
      "Collecting package metadata (repodata.json): ...working... done\n",
      "Solving environment: ...working... done\n",
      "\n",
      "# All requested packages already installed.\n",
      "\n",
      "Channels:\n",
      " - defaults\n",
      " - anaconda\n",
      " - conda-forge\n",
      "Platform: win-64\n",
      "Collecting package metadata (repodata.json): ...working... done\n",
      "Solving environment: ...working... done\n",
      "\n",
      "## Package Plan ##\n",
      "\n",
      "  environment location: C:\\Users\\HP\\anaconda3\\envs\\env_1\n",
      "\n",
      "  added / updated specs:\n",
      "    - anaconda::openpyxl\n",
      "\n",
      "\n",
      "The following packages will be downloaded:\n",
      "\n",
      "    package                    |            build\n",
      "    ---------------------------|-----------------\n",
      "    et_xmlfile-1.1.0           |  py313haa95532_1          13 KB\n",
      "    openpyxl-3.1.5             |  py313h827c3e9_0         633 KB  anaconda\n",
      "    ------------------------------------------------------------\n",
      "                                           Total:         646 KB\n",
      "\n",
      "The following NEW packages will be INSTALLED:\n",
      "\n",
      "  et_xmlfile         pkgs/main/win-64::et_xmlfile-1.1.0-py313haa95532_1 \n",
      "  openpyxl           anaconda/win-64::openpyxl-3.1.5-py313h827c3e9_0 \n",
      "\n",
      "\n",
      "\n",
      "Downloading and Extracting Packages: ...working...\n",
      "openpyxl-3.1.5       | 633 KB    |            |   0% \n",
      "\n",
      "et_xmlfile-1.1.0     | 13 KB     |            |   0% \u001b[A\n",
      "\n",
      "et_xmlfile-1.1.0     | 13 KB     | ########## | 100% \u001b[A\n",
      "\n",
      "et_xmlfile-1.1.0     | 13 KB     | ########## | 100% \u001b[A\n",
      "openpyxl-3.1.5       | 633 KB    | 2          |   3% \n",
      "\n",
      "et_xmlfile-1.1.0     | 13 KB     | ########## | 100% \u001b[A\n",
      "openpyxl-3.1.5       | 633 KB    | ####       |  40% \n",
      "openpyxl-3.1.5       | 633 KB    | ########3  |  83% \n",
      "openpyxl-3.1.5       | 633 KB    | ########## | 100% \n",
      "openpyxl-3.1.5       | 633 KB    | ########## | 100% \n",
      "                                                     \n",
      "\n",
      "\n",
      "                                                     \u001b[A done\n",
      "Preparing transaction: done\n",
      "Verifying transaction: done\n",
      "Executing transaction: done\n"
     ]
    }
   ],
   "source": [
    "# Install the 'pandas' library using conda with automatic confirmation of the installation.\n",
    "!conda install pandas -y\n",
    "\n",
    "# Install the 'openpyxl' library from the 'anaconda' channel. \n",
    "# openpyxl: A Python library used to read, write, and manipulate Excel files in .xlsx and .xlsm formats. It is commonly used for automating tasks involving Excel.\n",
    "!conda install anaconda::openpyxl -y\n"
   ]
  },
  {
   "cell_type": "markdown",
   "metadata": {},
   "source": [
    "### Notice\n",
    "\n",
    "**Please restart kernel after installing the packages for the changes to take effect**"
   ]
  },
  {
   "cell_type": "markdown",
   "metadata": {
    "id": "14FPkwRoiP7F"
   },
   "source": [
    "## Numpy\n",
    "\n",
    "> Numpy(Numerical python) is a very powerful open source python package for scientific computing in Python.    \n",
    "We use it for:\n",
    "\n",
    "\n",
    "*   Variable dimension arrays making them suitable for a wide range of data structures.\n",
    "*   Vectorization: Perform operations on entire arrays element-wise, without the need for explicit loops.\n",
    "*   Random Number Generation: Generate random numbers from various distributions.    \n",
    "We import it into our working environment as: ***import numpy as np***"
   ]
  },
  {
   "cell_type": "code",
   "execution_count": 3,
   "metadata": {
    "colab": {
     "base_uri": "https://localhost:8080/"
    },
    "id": "x2XT7hkcRoSh",
    "outputId": "fda5faa7-7139-4c4d-cc36-a37a160322d9"
   },
   "outputs": [
    {
     "name": "stdout",
     "output_type": "stream",
     "text": [
      "2.2.0\n"
     ]
    }
   ],
   "source": [
    "import numpy as np\n",
    "print(np.__version__)"
   ]
  },
  {
   "cell_type": "markdown",
   "metadata": {
    "id": "eDRPkhmmbISx"
   },
   "source": [
    "### Creating Numpy Arrays"
   ]
  },
  {
   "cell_type": "code",
   "execution_count": 4,
   "metadata": {
    "colab": {
     "base_uri": "https://localhost:8080/"
    },
    "id": "iCiUXAMAbO7E",
    "outputId": "e9331b9e-8138-4dd1-ab35-658dd4e2a6ba"
   },
   "outputs": [
    {
     "data": {
      "text/plain": [
       "array([1, 2, 3])"
      ]
     },
     "execution_count": 4,
     "metadata": {},
     "output_type": "execute_result"
    }
   ],
   "source": [
    "# Create a 1D NumPy array (vector)\n",
    "num_array_1 = np.array([1, 2, 3])\n",
    "\n",
    "num_array_1"
   ]
  },
  {
   "cell_type": "code",
   "execution_count": 5,
   "metadata": {
    "colab": {
     "base_uri": "https://localhost:8080/"
    },
    "id": "adsIvpvdbR4w",
    "outputId": "7fcb958e-dd9c-4181-b4e7-5e727ab48d4f"
   },
   "outputs": [
    {
     "data": {
      "text/plain": [
       "array([[1, 2, 3],\n",
       "       [4, 5, 6],\n",
       "       [7, 8, 9]])"
      ]
     },
     "execution_count": 5,
     "metadata": {},
     "output_type": "execute_result"
    }
   ],
   "source": [
    "# Create a 2D array (matrix)\n",
    "list_of_lists = [[1, 2, 3], [4, 5, 6], [7, 8, 9]]\n",
    "num_array_2 = np.array(list_of_lists)\n",
    "num_array_2"
   ]
  },
  {
   "cell_type": "code",
   "execution_count": 6,
   "metadata": {
    "colab": {
     "base_uri": "https://localhost:8080/"
    },
    "id": "ZJKGMUsZbYed",
    "outputId": "c5053bff-8eb1-4d8a-ea04-7803603a4fcc"
   },
   "outputs": [
    {
     "data": {
      "text/plain": [
       "array([[[1, 2, 3],\n",
       "        [4, 5, 6],\n",
       "        [7, 8, 9]],\n",
       "\n",
       "       [[1, 2, 3],\n",
       "        [4, 5, 6],\n",
       "        [7, 8, 9]]])"
      ]
     },
     "execution_count": 6,
     "metadata": {},
     "output_type": "execute_result"
    }
   ],
   "source": [
    "# Create a 3D array (Tensor)\n",
    "list_of_lists_of_lists = [list_of_lists, list_of_lists]\n",
    "num_array_3 = np.array(list_of_lists_of_lists)\n",
    "num_array_3"
   ]
  },
  {
   "cell_type": "markdown",
   "metadata": {
    "id": "qsl5T6FubuOt"
   },
   "source": [
    "### Random number generation"
   ]
  },
  {
   "cell_type": "code",
   "execution_count": 7,
   "metadata": {
    "colab": {
     "base_uri": "https://localhost:8080/"
    },
    "id": "pOGZvJ0zbyX9",
    "outputId": "57ae54ef-6d99-45c5-9efc-d141317f68ee"
   },
   "outputs": [
    {
     "name": "stdout",
     "output_type": "stream",
     "text": [
      "1D Array: [0.65141271 0.33190874 0.94103645 0.20844333 0.11379083]\n"
     ]
    }
   ],
   "source": [
    "# Create a 1D array of 5 random numbers\n",
    "array_1d = np.random.rand(5)\n",
    "print(\"1D Array:\", array_1d)"
   ]
  },
  {
   "cell_type": "code",
   "execution_count": 8,
   "metadata": {
    "colab": {
     "base_uri": "https://localhost:8080/"
    },
    "id": "ZCdcHFWocHJw",
    "outputId": "7a0b3b24-757f-4cbd-b83b-a0afbaa7ecd4"
   },
   "outputs": [
    {
     "name": "stdout",
     "output_type": "stream",
     "text": [
      "2D Array:\n",
      " [[0.94769502 0.04746262 0.43226962 0.62362498]\n",
      " [0.6092052  0.65017721 0.92589073 0.92413952]\n",
      " [0.53683368 0.32487835 0.11353958 0.73390077]]\n"
     ]
    }
   ],
   "source": [
    "# Create a 2D array of shape (3, 4) with random numbers\n",
    "array_2d = np.random.rand(3, 4)\n",
    "print(\"2D Array:\\n\", array_2d)"
   ]
  },
  {
   "cell_type": "markdown",
   "metadata": {
    "id": "GwklycXkboyV"
   },
   "source": [
    "Numpy has some inbuilt methods that can help us find information or manipulate data in these arrays"
   ]
  },
  {
   "cell_type": "code",
   "execution_count": 9,
   "metadata": {
    "colab": {
     "base_uri": "https://localhost:8080/"
    },
    "id": "aN5vxNHPcU9W",
    "outputId": "c7cc9be4-1759-49eb-9c5c-742407dc3c43"
   },
   "outputs": [
    {
     "data": {
      "text/plain": [
       "(3, 4)"
      ]
     },
     "execution_count": 9,
     "metadata": {},
     "output_type": "execute_result"
    }
   ],
   "source": [
    "# Retrieve the shape of the 2D array 'array_2d'\n",
    "# The shape is returned as a tuple (rows, columns)\n",
    "array_2d.shape\n"
   ]
  },
  {
   "cell_type": "code",
   "execution_count": 10,
   "metadata": {
    "colab": {
     "base_uri": "https://localhost:8080/"
    },
    "id": "fTSe1NN6cbxj",
    "outputId": "25ee0eb9-a777-4efe-b30b-bb702099b389"
   },
   "outputs": [
    {
     "data": {
      "text/plain": [
       "array([0.94769502, 0.04746262, 0.43226962, 0.62362498, 0.6092052 ,\n",
       "       0.65017721, 0.92589073, 0.92413952, 0.53683368, 0.32487835,\n",
       "       0.11353958, 0.73390077])"
      ]
     },
     "execution_count": 10,
     "metadata": {},
     "output_type": "execute_result"
    }
   ],
   "source": [
    "# Convert the 2D array 'array_2d' into a 1D array using the flatten() method\n",
    "array_flat = array_2d.flatten()\n",
    "\n",
    "# Display the resulting 1D array\n",
    "array_flat\n"
   ]
  },
  {
   "cell_type": "code",
   "execution_count": 11,
   "metadata": {
    "colab": {
     "base_uri": "https://localhost:8080/"
    },
    "id": "Ele7AosEc6PI",
    "outputId": "58082920-247f-4c32-fb29-151e0b4c011e"
   },
   "outputs": [
    {
     "data": {
      "text/plain": [
       "(12,)"
      ]
     },
     "execution_count": 11,
     "metadata": {},
     "output_type": "execute_result"
    }
   ],
   "source": [
    "array_flat.shape"
   ]
  },
  {
   "cell_type": "markdown",
   "metadata": {
    "id": "PndDyl8ElJDR"
   },
   "source": [
    "Ensure that you visit the [official documentation](https://numpy.org/doc/) as it provides a comprehensive overview of the library, covering everything from basic usage to advanced techniques.    \n",
    "![Screenshot 2024-12-10 052202.png](data:image/png;base64,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)\n"
   ]
  },
  {
   "cell_type": "markdown",
   "metadata": {
    "id": "53SFibgvZCPE"
   },
   "source": [
    "## Pandas\n",
    "\n",
    "> Pandas is a very powerful and versatile open source python package.    \n",
    "> We use it for:\n",
    "\n",
    "*   Data Manipulation: Filtering, sorting, grouping, and transforming data.\n",
    "*   Data Aggregation: Calculating summary statistics like mean, median, and standard deviation.\n",
    "*   Data Cleaning: Handling missing values, removing duplicates, and formatting data.\n",
    "*   Data Visualization: Creating various plots and charts to visualize data trends.    \n",
    "\n",
    "We import it into our working our working environment using the alias: ***import pandas as pd***"
   ]
  },
  {
   "cell_type": "code",
   "execution_count": 12,
   "metadata": {
    "colab": {
     "base_uri": "https://localhost:8080/"
    },
    "id": "9oQxWMOFchx6",
    "outputId": "ff91bedf-9f6a-41ec-d4bf-0e88b52aa8f9"
   },
   "outputs": [
    {
     "name": "stdout",
     "output_type": "stream",
     "text": [
      "2.2.3\n"
     ]
    }
   ],
   "source": [
    "import pandas as pd\n",
    "print(pd.__version__)"
   ]
  },
  {
   "cell_type": "markdown",
   "metadata": {
    "id": "T4Qt-XmbaWPM"
   },
   "source": [
    "One popular data structure you will be working with is the **Pandas DataFrame**    \n",
    "Think of it as a spreadsheet or a SQL table, where data is organized in rows and columns.    \n",
    "This structure makes it incredibly versatile for data analysis and manipulation."
   ]
  },
  {
   "cell_type": "markdown",
   "metadata": {
    "id": "l_h7D9YfcTWz"
   },
   "source": [
    "### Creating DataFrames    \n",
    "There are numerous ways to convert your data into a dataframe but we can look at some."
   ]
  },
  {
   "cell_type": "code",
   "execution_count": 13,
   "metadata": {
    "colab": {
     "base_uri": "https://localhost:8080/"
    },
    "id": "0Y8HOlhkcaxa",
    "outputId": "4eda169d-d623-45ca-c106-a56d8a170638"
   },
   "outputs": [
    {
     "name": "stdout",
     "output_type": "stream",
     "text": [
      "      Name  Age  Salary\n",
      "0    Alice   25   50000\n",
      "1      Bob   30   60000\n",
      "2  Charlie   35   70000\n"
     ]
    }
   ],
   "source": [
    "# Using a dictionary where keys are column names and values are lists, arrays, or series.\n",
    "data = {\n",
    "    \"Name\": [\"Alice\", \"Bob\", \"Charlie\"],\n",
    "    \"Age\": [25, 30, 35],\n",
    "    \"Salary\": [50000, 60000, 70000]\n",
    "}\n",
    "df = pd.DataFrame(data)\n",
    "print(df)"
   ]
  },
  {
   "cell_type": "code",
   "execution_count": 14,
   "metadata": {
    "colab": {
     "base_uri": "https://localhost:8080/"
    },
    "id": "cSfgLnchcnws",
    "outputId": "21d9b2c2-cea1-4f5b-b4f6-335dc0b04303"
   },
   "outputs": [
    {
     "name": "stdout",
     "output_type": "stream",
     "text": [
      "      Name  Age  Salary\n",
      "0    Alice   25   50000\n",
      "1      Bob   30   60000\n",
      "2  Charlie   35   70000\n"
     ]
    }
   ],
   "source": [
    "# From a List of Lists: Providing a list of rows and specifying column names.\n",
    "data = [\n",
    "    [\"Alice\", 25, 50000],\n",
    "    [\"Bob\", 30, 60000],\n",
    "    [\"Charlie\", 35, 70000]\n",
    "]\n",
    "df = pd.DataFrame(data, columns=[\"Name\", \"Age\", \"Salary\"])\n",
    "print(df)"
   ]
  },
  {
   "cell_type": "code",
   "execution_count": 15,
   "metadata": {
    "colab": {
     "base_uri": "https://localhost:8080/"
    },
    "id": "hhgJ6J4Wc4-B",
    "outputId": "da30ec9a-9275-4049-8b8e-4da200256361"
   },
   "outputs": [
    {
     "name": "stdout",
     "output_type": "stream",
     "text": [
      "      Name  Age  Salary\n",
      "0    Alice   25   50000\n",
      "1      Bob   30   60000\n",
      "2  Charlie   35   70000\n"
     ]
    }
   ],
   "source": [
    "# From a List of Dictionaries: Each dictionary represents a row, and keys become column names.\n",
    "data = [\n",
    "    {\"Name\": \"Alice\", \"Age\": 25, \"Salary\": 50000},\n",
    "    {\"Name\": \"Bob\", \"Age\": 30, \"Salary\": 60000},\n",
    "    {\"Name\": \"Charlie\", \"Age\": 35, \"Salary\": 70000}\n",
    "]\n",
    "df = pd.DataFrame(data)\n",
    "print(df)\n"
   ]
  },
  {
   "cell_type": "code",
   "execution_count": 16,
   "metadata": {
    "colab": {
     "base_uri": "https://localhost:8080/"
    },
    "id": "2fN-aGk0dZ_8",
    "outputId": "76756819-239f-48c3-97be-43fddfeafbe6"
   },
   "outputs": [
    {
     "name": "stdout",
     "output_type": "stream",
     "text": [
      "      Name  Age         City\n",
      "0    Alice   25     New York\n",
      "1      Bob   30  Los Angeles\n",
      "2  Charlie   28      Chicago\n"
     ]
    }
   ],
   "source": [
    "# From CSV or Excel File: Reading data directly from a file.\n",
    "# CSV File\n",
    "df_csv = pd.read_csv(\"file.csv\")\n",
    "\n",
    "# Excel File\n",
    "df_excel = pd.read_excel(\"file.xlsx\")\n",
    "\n",
    "print(df_csv)"
   ]
  },
  {
   "cell_type": "markdown",
   "metadata": {
    "id": "CzUhvsx_d08i"
   },
   "source": [
    "Pandas also has some inbuilt methods that can be useful for data scientists:"
   ]
  },
  {
   "cell_type": "code",
   "execution_count": 17,
   "metadata": {
    "colab": {
     "base_uri": "https://localhost:8080/"
    },
    "id": "aqPWoAuFeJDc",
    "outputId": "e5e45bb3-599c-4f0a-8757-62709147e0ad"
   },
   "outputs": [
    {
     "data": {
      "text/plain": [
       "(3, 3)"
      ]
     },
     "execution_count": 17,
     "metadata": {},
     "output_type": "execute_result"
    }
   ],
   "source": [
    "df_csv.shape #returns a tuple representing the dimensions of the DataFrame, typically in the format of (number of rows, number of columns)"
   ]
  },
  {
   "cell_type": "code",
   "execution_count": 18,
   "metadata": {
    "colab": {
     "base_uri": "https://localhost:8080/"
    },
    "id": "C_zOqcYreh-7",
    "outputId": "f810b06f-835b-4ef5-b7f5-82283408dad5"
   },
   "outputs": [
    {
     "name": "stdout",
     "output_type": "stream",
     "text": [
      "<class 'pandas.core.frame.DataFrame'>\n",
      "RangeIndex: 3 entries, 0 to 2\n",
      "Data columns (total 3 columns):\n",
      " #   Column  Non-Null Count  Dtype \n",
      "---  ------  --------------  ----- \n",
      " 0   Name    3 non-null      object\n",
      " 1   Age     3 non-null      int64 \n",
      " 2   City    3 non-null      object\n",
      "dtypes: int64(1), object(2)\n",
      "memory usage: 204.0+ bytes\n"
     ]
    }
   ],
   "source": [
    "df_excel.info() #provides a summary of the DataFrame, including the data types of each column and the number of non-null values"
   ]
  },
  {
   "cell_type": "markdown",
   "metadata": {
    "id": "ZW_ASMxyew47"
   },
   "source": [
    "Ensure that you visit the [official documentation](https://pandas.pydata.org/docs/) as it provides a comprehensive overview of the libraries, covering everything from basic usage to advanced techniques.![Screenshot 2024-12-10 045532.png](data:image/png;base64,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)"
   ]
  },
  {
   "cell_type": "markdown",
   "metadata": {
    "id": "-fX5IU-Vesyc"
   },
   "source": [
    "You can also install packages from GitHub repositories using this [guide](https://www.geeksforgeeks.org/how-to-install-a-python-package-from-a-github-repository/)"
   ]
  },
  {
   "cell_type": "markdown",
   "metadata": {
    "id": "zZ-mg3ViYsZW"
   },
   "source": [
    "## Exercises"
   ]
  },
  {
   "cell_type": "markdown",
   "metadata": {
    "id": "kYJiTwJnYits"
   },
   "source": [
    "Import the necessary packages and their aliases"
   ]
  },
  {
   "cell_type": "code",
   "execution_count": null,
   "metadata": {
    "id": "8p1RyNCIYrDJ"
   },
   "outputs": [],
   "source": []
  },
  {
   "cell_type": "markdown",
   "metadata": {
    "id": "1L3556ioUCJG"
   },
   "source": [
    "Using your understanding of lists, remove the last element(list) in this list of lists.\n",
    "\n",
    "> [[22, 29, 27, 37, 29], [28, 36, 22, 37, 37], [40, 34, 32, 38, 33], [40, 20, 37, 38, 25]]\n",
    "\n",
    "\n"
   ]
  },
  {
   "cell_type": "code",
   "execution_count": null,
   "metadata": {
    "id": "CEVs-inlTSzD"
   },
   "outputs": [],
   "source": []
  },
  {
   "cell_type": "markdown",
   "metadata": {
    "id": "p7SjL0iYXb1q"
   },
   "source": [
    "Flatten the array"
   ]
  },
  {
   "cell_type": "code",
   "execution_count": null,
   "metadata": {
    "id": "Eg8VrxF9XibO"
   },
   "outputs": [],
   "source": []
  },
  {
   "cell_type": "markdown",
   "metadata": {
    "id": "2JqgAKtlTWyI"
   },
   "source": [
    "Write code to find the maximum value in the NumPy array."
   ]
  },
  {
   "cell_type": "code",
   "execution_count": null,
   "metadata": {
    "id": "nzSby-i-Te__"
   },
   "outputs": [],
   "source": []
  },
  {
   "cell_type": "markdown",
   "metadata": {
    "id": "gn0klNR4Tf4d"
   },
   "source": [
    "What is the difference between mean and median for this array?"
   ]
  },
  {
   "cell_type": "code",
   "execution_count": null,
   "metadata": {
    "id": "U18hbJBETsky"
   },
   "outputs": [],
   "source": []
  },
  {
   "cell_type": "markdown",
   "metadata": {
    "id": "r8q7g1ogU-Q6"
   },
   "source": [
    "Create a dataframe from the folowing dictionary:\n",
    "\n",
    ">students = [\n",
    "    {\"Name\": \"Alice\", \"Course\": \"Engineering\", \"Fees Due\": 5000, \"Performance\": \"Exceptional\"},\n",
    "    {\"Name\": \"Bob\", \"Course\": \"Mathematics\", \"Fees Due\": 12000, \"Performance\": \"Good\"},\n",
    "    {\"Name\": \"Charlie\", \"Course\": \"Physics\", \"Fees Due\": 0, \"Performance\": \"Exceptional\"},\n",
    "    {\"Name\": \"David\", \"Course\": \"Computer Science\", \"Fees Due\": 15000, \"Performance\": \"Struggling\"},\n",
    "    {\"Name\": \"Eve\", \"Course\": \"Biology\", \"Fees Due\": 3000, \"Performance\": \"Good\"},\n",
    "    {\"Name\": \"Frank\", \"Course\": \"Economics\", \"Fees Due\": 10000, \"Performance\": \"Average\"},\n",
    "    {\"Name\": \"Grace\", \"Course\": \"Chemistry\", \"Fees Due\": 7000, \"Performance\": \"Good\"},\n",
    "    {\"Name\": \"Hannah\", \"Course\": \"Philosophy\", \"Fees Due\": 20000, \"Performance\": \"Struggling\"},\n",
    "    {\"Name\": \"Isaac\", \"Course\": \"Law\", \"Fees Due\": 0, \"Performance\": \"Exceptional\"},\n",
    "    {\"Name\": \"Jack\", \"Course\": \"Medicine\", \"Fees Due\": 8000, \"Performance\": \"Average\"},\n",
    "    {\"Name\": \"Kate\", \"Course\": \"Architecture\", \"Fees Due\": 4000, \"Performance\": \"Good\"},\n",
    "    {\"Name\": \"Leo\", \"Course\": \"Psychology\", \"Fees Due\": 5000, \"Performance\": \"Average\"},\n",
    "    {\"Name\": \"Mona\", \"Course\": \"Sociology\", \"Fees Due\": 13000, \"Performance\": \"Struggling\"},\n",
    "    {\"Name\": \"Nina\", \"Course\": \"Business\", \"Fees Due\": 6000, \"Performance\": \"Good\"},\n",
    "    {\"Name\": \"Omar\", \"Course\": \"History\", \"Fees Due\": 2000, \"Performance\": \"Exceptional\"}\n",
    "]"
   ]
  },
  {
   "cell_type": "code",
   "execution_count": null,
   "metadata": {
    "id": "HdLgdxiWVE8z"
   },
   "outputs": [],
   "source": []
  },
  {
   "cell_type": "markdown",
   "metadata": {
    "id": "vTSJ6nEFUSIv"
   },
   "source": [
    "Display the first 5 rows of a DataFrame"
   ]
  },
  {
   "cell_type": "code",
   "execution_count": null,
   "metadata": {
    "id": "yA_wEyFGUXDH"
   },
   "outputs": [],
   "source": []
  },
  {
   "cell_type": "markdown",
   "metadata": {
    "id": "Vk_-4WhRUm1K"
   },
   "source": [
    "Add the array we worked on before as the column 'Age' to your dataframe"
   ]
  },
  {
   "cell_type": "code",
   "execution_count": null,
   "metadata": {
    "id": "u-9FFO-VUmKm"
   },
   "outputs": [],
   "source": []
  },
  {
   "cell_type": "markdown",
   "metadata": {
    "id": "kzgs09_FUXjP"
   },
   "source": [
    "Write code to filter rows in a DataFrame where a column 'Age' is greater than 25."
   ]
  },
  {
   "cell_type": "code",
   "execution_count": null,
   "metadata": {
    "id": "6Iwsz04cUi3u"
   },
   "outputs": [],
   "source": []
  },
  {
   "cell_type": "markdown",
   "metadata": {
    "id": "XoQilQrjY3Du"
   },
   "source": [
    "Calculate the sum of all fees due in the pandas DataFrame column \"Fees Due\""
   ]
  },
  {
   "cell_type": "code",
   "execution_count": null,
   "metadata": {
    "id": "5zwYOYI0W4gt"
   },
   "outputs": [],
   "source": []
  }
 ],
 "metadata": {
  "colab": {
   "provenance": []
  },
  "kernelspec": {
   "display_name": "env_1",
   "language": "python",
   "name": "python3"
  },
  "language_info": {
   "codemirror_mode": {
    "name": "ipython",
    "version": 3
   },
   "file_extension": ".py",
   "mimetype": "text/x-python",
   "name": "python",
   "nbconvert_exporter": "python",
   "pygments_lexer": "ipython3",
   "version": "3.13.0"
  }
 },
 "nbformat": 4,
 "nbformat_minor": 0
}
